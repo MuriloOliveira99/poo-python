{
  "nbformat": 4,
  "nbformat_minor": 0,
  "metadata": {
    "colab": {
      "provenance": [],
      "collapsed_sections": []
    },
    "kernelspec": {
      "name": "python3",
      "display_name": "Python 3"
    },
    "language_info": {
      "name": "python"
    }
  },
  "cells": [
    {
      "cell_type": "markdown",
      "source": [
        "# Getters e Setters\n",
        "- Getters e setters são usados para proteger seus dados, especialmente na criação de classes.\n",
        "- Para cada instância de variável, um método getter retorna seu valor, enquanto um método setter o define ou atualiza."
      ],
      "metadata": {
        "id": "c_VJdwsWolaC"
      }
    },
    {
      "cell_type": "code",
      "execution_count": 12,
      "metadata": {
        "colab": {
          "base_uri": "https://localhost:8080/"
        },
        "id": "z4TYwzX1oXeU",
        "outputId": "c72bf0ce-98bc-41c7-c247-1281bc3d055a"
      },
      "outputs": [
        {
          "output_type": "stream",
          "name": "stdout",
          "text": [
            "Digirindo um(a) Ferrari\n"
          ]
        }
      ],
      "source": [
        "class Pessoa: # substantivo\n",
        "\n",
        "  # método construtor\n",
        "  def __init__(self, name: str, idade: int) -> None:\n",
        "    self.name = name\n",
        "    self.idade = idade\n",
        "\n",
        "  def dirigir(self, veiculo: str) -> None: # verbos\n",
        "    print('Digirindo um(a) {}'.format(veiculo))\n",
        "\n",
        "  def cantar(self) -> None:\n",
        "    print('Lalalala!')\n",
        "\n",
        "  def apresentar_idade(self) -> int:\n",
        "    return self.idade\n",
        "\n",
        "\n",
        "murilo = Pessoa('Murilo', 22)\n",
        "murilo.dirigir('Ferrari')\n",
        "\n",
        "  "
      ]
    },
    {
      "cell_type": "code",
      "source": [
        "class Alarme:\n",
        "\n",
        "  def __init__(self, estado: bool) -> None:\n",
        "    self.__estado = estado \n",
        "\n",
        "  def get_estado(self) -> bool:\n",
        "    return self.__estado\n",
        "\n",
        "  def set_estado(self, valor: bool) -> None:\n",
        "    if isinstance(valor, bool):\n",
        "      self.__estado = valor \n",
        "\n",
        "\n",
        "al = Alarme(False) # inicia o alarme como False\n",
        "al.set_estado(True) # altera o estado do alarme para True\n",
        "al.get_estado() # exibe o estado do alarme"
      ],
      "metadata": {
        "colab": {
          "base_uri": "https://localhost:8080/"
        },
        "id": "ZKZM6cWyrQGg",
        "outputId": "7a64f6d0-78c9-4afa-f760-c3f7fd9d6f60"
      },
      "execution_count": 13,
      "outputs": [
        {
          "output_type": "execute_result",
          "data": {
            "text/plain": [
              "True"
            ]
          },
          "metadata": {},
          "execution_count": 13
        }
      ]
    }
  ]
}