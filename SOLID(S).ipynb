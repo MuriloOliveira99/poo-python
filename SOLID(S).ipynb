{
  "nbformat": 4,
  "nbformat_minor": 0,
  "metadata": {
    "colab": {
      "provenance": [],
      "collapsed_sections": []
    },
    "kernelspec": {
      "name": "python3",
      "display_name": "Python 3"
    },
    "language_info": {
      "name": "python"
    }
  },
  "cells": [
    {
      "cell_type": "markdown",
      "source": [
        "# SOLID (S) - Responsabilidade Única\n",
        "- Princípio da responsabilidade única: \"Uma classe não pode ter mais de um motivo para ser alterada.\"\n",
        "- Sendo ainda mais específico, uma classe deve ter somente um motivo para ser alterada."
      ],
      "metadata": {
        "id": "tt8w8fv8tgrn"
      }
    },
    {
      "cell_type": "code",
      "execution_count": 5,
      "metadata": {
        "id": "V1CK88HPtam-"
      },
      "outputs": [],
      "source": [
        "class SistemaCadastral:\n",
        "\n",
        "  # O método 'cadastrar' tem muitas responsabilidades ao mesmo tempo\n",
        "  # 1º: ele verifica os dados\n",
        "  # 2º: faz o cadastro\n",
        "  # 3º: exibe o erro\n",
        "    def cadastrar(self, nome: str, idade: int) -> None:\n",
        "        if isinstance(nome, str) and isinstance(idade, int):\n",
        "            print('Acessando o banco de dados...')\n",
        "            print('Cadastrar o usuário {}, Idade {}'.format(nome, idade))\n",
        "        else:\n",
        "            print('Dados inválidos!')"
      ]
    },
    {
      "cell_type": "code",
      "source": [
        "class SistemaCadastral:\n",
        "\n",
        "    def cadastrar(self, nome: str, idade: int) -> None:\n",
        "        if self.__verificar_dados(nome, idade):\n",
        "            self.__armazenar_usuario(nome, idade)\n",
        "        else:\n",
        "            self.__indicar_erro()\n",
        "\n",
        "    def __verificar_dados(self, nome: str, idade: int) -> bool:\n",
        "        if isinstance(nome, str) and isinstance(idade, int):\n",
        "            return True\n",
        "        else:\n",
        "            return False\n",
        "\n",
        "    def __armazenar_usuario(self, nome: str, idade: int) -> None:\n",
        "        print('Acessando o banco de dados...')\n",
        "        print('Cadastrar o usuario {}, Idade {}'.format(nome, idade))\n",
        "\n",
        "    def __indicar_erro(self) -> None:\n",
        "        print('Dados inválidos!')\n",
        "\n",
        "sis = SistemaCadastral()\n",
        "sis.cadastrar('Murilo', 20)\n",
        "# sis.cadastrar('Murilo', 20.5) retorna 'Dados inválidos!'"
      ],
      "metadata": {
        "colab": {
          "base_uri": "https://localhost:8080/"
        },
        "id": "fbReJ2qYv_Ez",
        "outputId": "9f86e7a8-16a4-4b04-b089-9de675dde6a5"
      },
      "execution_count": 4,
      "outputs": [
        {
          "output_type": "stream",
          "name": "stdout",
          "text": [
            "Acessando o banco de dados...\n",
            "Cadastrar o usuario Murilo, Idade 20\n"
          ]
        }
      ]
    }
  ]
}