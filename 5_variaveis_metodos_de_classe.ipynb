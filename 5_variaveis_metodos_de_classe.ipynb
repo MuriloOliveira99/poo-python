{
 "cells": [
  {
   "cell_type": "markdown",
   "metadata": {},
   "source": [
    "# POO - Variáveis e Métodos de Classe"
   ]
  },
  {
   "cell_type": "markdown",
   "metadata": {},
   "source": [
    "### Exemplo 1"
   ]
  },
  {
   "cell_type": "code",
   "execution_count": 5,
   "metadata": {},
   "outputs": [
    {
     "name": "stdout",
     "output_type": "stream",
     "text": [
      "Murilo\n",
      "Programador\n",
      "Programador\n"
     ]
    }
   ],
   "source": [
    "class MinhaClasse:\n",
    "\n",
    "    estatico = 'Murilo'\n",
    "    def __init__(self, estado) -> None:\n",
    "        self.estado = estado \n",
    "\n",
    "obj1 = MinhaClasse(True)\n",
    "obj2 = MinhaClasse(False)\n",
    "\n",
    "MinhaClasse.estatico = 'Programador' # altera todos para Programador\n",
    "obj1.estatico = 'Murilo'\n",
    "\n",
    "print(obj1.estatico)\n",
    "print(obj2.estatico)\n",
    "print(MinhaClasse.estatico)"
   ]
  },
  {
   "cell_type": "markdown",
   "metadata": {},
   "source": [
    "### Exemplo 2"
   ]
  },
  {
   "cell_type": "code",
   "execution_count": 8,
   "metadata": {},
   "outputs": [
    {
     "name": "stdout",
     "output_type": "stream",
     "text": [
      "Murilo\n"
     ]
    }
   ],
   "source": [
    "class MinhaClasse:\n",
    "\n",
    "    estatico = 'Murilo'\n",
    "\n",
    "    def __init__(self, estado) -> None:\n",
    "        self.estado = estado \n",
    "\n",
    "    def print_estatico(self) -> None:\n",
    "        print(self.estatico)\n",
    "\n",
    "obj1 = MinhaClasse(True)\n",
    "obj1.print_estatico()"
   ]
  },
  {
   "cell_type": "markdown",
   "metadata": {},
   "source": [
    "### Exemplo 3"
   ]
  },
  {
   "cell_type": "code",
   "execution_count": 10,
   "metadata": {},
   "outputs": [
    {
     "name": "stdout",
     "output_type": "stream",
     "text": [
      "Programador\n",
      "Murilo\n"
     ]
    }
   ],
   "source": [
    "class MinhaClasse:\n",
    "\n",
    "    estatico = 'Murilo'\n",
    "\n",
    "    def __init__(self, estado) -> None:\n",
    "        self.estado = estado \n",
    "\n",
    "    def print_estatico(self) -> None:\n",
    "        print(self.estatico)\n",
    "\n",
    "    def mudar_estatico(self) -> None:\n",
    "        self.estatico = 'Programador'\n",
    "\n",
    "obj1 = MinhaClasse(True)\n",
    "obj1.mudar_estatico()\n",
    "obj1.print_estatico()\n",
    "\n",
    "print(MinhaClasse.estatico)"
   ]
  },
  {
   "cell_type": "markdown",
   "metadata": {},
   "source": [
    "### Exemplo 4"
   ]
  },
  {
   "cell_type": "code",
   "execution_count": 11,
   "metadata": {},
   "outputs": [
    {
     "name": "stdout",
     "output_type": "stream",
     "text": [
      "Programador\n",
      "Programador\n"
     ]
    }
   ],
   "source": [
    "class MinhaClasse:\n",
    "\n",
    "    estatico = 'Murilo'\n",
    "\n",
    "    def __init__(self, estado) -> None:\n",
    "        self.estado = estado \n",
    "\n",
    "    def print_estatico(self) -> None:\n",
    "        print(self.estatico)\n",
    "\n",
    "    @classmethod # mesma coisa q pegar o nome da classe\n",
    "    def mudar_estatico(cls) -> None:\n",
    "        cls.estatico = 'Programador'\n",
    "\n",
    "obj1 = MinhaClasse(True)\n",
    "obj2 = MinhaClasse(False)\n",
    "\n",
    "obj1.mudar_estatico()\n",
    "\n",
    "obj1.print_estatico()\n",
    "obj2.print_estatico()\n"
   ]
  },
  {
   "cell_type": "markdown",
   "metadata": {},
   "source": [
    "### Exemplo 5 - Loja"
   ]
  },
  {
   "cell_type": "code",
   "execution_count": 16,
   "metadata": {},
   "outputs": [
    {
     "name": "stdout",
     "output_type": "stream",
     "text": [
      "Praia\n",
      "41.2\n",
      "41.2\n",
      "60.0\n",
      "60.0\n"
     ]
    }
   ],
   "source": [
    "class Loja:\n",
    "\n",
    "    tarifa = 1.03\n",
    "\n",
    "    def __init__(self, endereco: str) -> None:\n",
    "        self.__endereco = endereco\n",
    "\n",
    "    def apresentar_endereco(self) -> None:\n",
    "        print(self.__endereco)\n",
    "\n",
    "    @classmethod\n",
    "    def vender(cls) -> float:\n",
    "        return 40 * cls.tarifa\n",
    "\n",
    "    @classmethod\n",
    "    def alterar_tarifa(cls, nova_tarifa: int) -> None:\n",
    "        cls.tarifa = nova_tarifa\n",
    "\n",
    "loja_praia = Loja('Praia')\n",
    "loja_centro = Loja('Centro')\n",
    "\n",
    "loja_praia.apresentar_endereco() # praia\n",
    "\n",
    "print(loja_praia.vender()) # vl1\n",
    "print(loja_centro.vender()) # vl1\n",
    "\n",
    "loja_centro.alterar_tarifa(1.50)\n",
    "\n",
    "print(loja_praia.vender())\n",
    "print(loja_centro.vender())"
   ]
  },
  {
   "cell_type": "code",
   "execution_count": null,
   "metadata": {},
   "outputs": [],
   "source": []
  }
 ],
 "metadata": {
  "kernelspec": {
   "display_name": "Python 3.9.12 ('base')",
   "language": "python",
   "name": "python3"
  },
  "language_info": {
   "codemirror_mode": {
    "name": "ipython",
    "version": 3
   },
   "file_extension": ".py",
   "mimetype": "text/x-python",
   "name": "python",
   "nbconvert_exporter": "python",
   "pygments_lexer": "ipython3",
   "version": "3.9.12"
  },
  "orig_nbformat": 4,
  "vscode": {
   "interpreter": {
    "hash": "ad2bdc8ecc057115af97d19610ffacc2b4e99fae6737bb82f5d7fb13d2f2c186"
   }
  }
 },
 "nbformat": 4,
 "nbformat_minor": 2
}
