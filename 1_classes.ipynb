{
  "nbformat": 4,
  "nbformat_minor": 0,
  "metadata": {
    "colab": {
      "provenance": [],
      "collapsed_sections": []
    },
    "kernelspec": {
      "name": "python3",
      "display_name": "Python 3"
    },
    "language_info": {
      "name": "python"
    }
  },
  "cells": [
    {
      "cell_type": "markdown",
      "source": [
        "# CLASSES\n",
        " - classe = objeto = tabela\n",
        " - ação = métodos, caracteristica = atributos"
      ],
      "metadata": {
        "id": "nVTboYoYAbEO"
      }
    },
    {
      "cell_type": "code",
      "execution_count": null,
      "metadata": {
        "colab": {
          "base_uri": "https://localhost:8080/"
        },
        "id": "MIpCnrc8AHXC",
        "outputId": "3c911f9f-52b8-47c4-bd94-cc9ff7300963"
      },
      "outputs": [
        {
          "output_type": "stream",
          "name": "stdout",
          "text": [
            "Olá mundo\n",
            "Meu objeto\n",
            "20\n",
            "Olá mundo\n",
            "Olá mundo\n",
            "Meu objeto\n"
          ]
        }
      ],
      "source": [
        "class MinhaClasse:\n",
        "\n",
        "    # __init__ -> método construtor \n",
        "    # init -> invocado quando um objeto é instanciado\n",
        "    def __init__(self, att):\n",
        "      self.meu_atributo = 'Olá mundo'\n",
        "      self.meu_atributo2 = att\n",
        "\n",
        "    # self -> acessar os atributos e métodos de uma classe em Python\n",
        "    def meu_metodo(self):\n",
        "        print(self.meu_atributo)\n",
        "        print(self.meu_atributo2)\n",
        "\n",
        "    def meu_metodo2(self, num, mult):\n",
        "      return num * mult\n",
        "\n",
        "    \n",
        "\n",
        "# instância do objeto da classe\n",
        "objeto = MinhaClasse('Meu objeto')\n",
        "\n",
        "# chamada do método 'meu_objeto'\n",
        "objeto.meu_metodo()\n",
        "\n",
        "# chamada do método 'meu_metodo2'\n",
        "resultado_metodo2 = objeto.meu_metodo2(10, 2)\n",
        "print(resultado_metodo2)\n",
        "\n",
        "# print(objeto.meu_atributo)\n",
        "att = objeto.meu_atributo\n",
        "print(att)\n",
        "\n",
        "objeto.meu_metodo()"
      ]
    },
    {
      "cell_type": "code",
      "source": [
        "class ControleRemoto:\n",
        "\n",
        "  # MÉTODOS\n",
        "  def __init__(self, televisao, comodo):\n",
        "    self.televisao = televisao\n",
        "    self.comodo = comodo\n",
        "\n",
        "  def avancar_canal(self):\n",
        "    print('Canal avançado!')\n",
        "\n",
        "  def voltar_canal(self):\n",
        "    print('Voltar canal!')\n",
        "  \n",
        "  def escolher_canal(self, canal):\n",
        "    print(f'Alterado para o canal {canal}')\n",
        "\n",
        "# Instância 1\n",
        "controle_sala = ControleRemoto('Samsung', 'Sala')\n",
        "print(controle_sala.comodo)\n",
        "print(controle_sala.televisao)\n",
        "controle_sala.avancar_canal()\n",
        "controle_sala.escolher_canal(12)\n",
        "\n",
        "print()\n",
        "\n",
        "# Instancia 2\n",
        "controle_quarto = ControleRemoto('LG', 'Quarto')\n",
        "print(controle_quarto.comodo)\n",
        "print(controle_quarto.televisao)\n",
        "controle_quarto.avancar_canal()\n",
        "controle_quarto.escolher_canal(7)"
      ],
      "metadata": {
        "colab": {
          "base_uri": "https://localhost:8080/"
        },
        "id": "7Fl5vlIECiCm",
        "outputId": "0708ceca-52d3-4400-f2c1-ae22c27a0507"
      },
      "execution_count": null,
      "outputs": [
        {
          "output_type": "stream",
          "name": "stdout",
          "text": [
            "Sala\n",
            "Samsung\n",
            "Canal avançado!\n",
            "Alterado para o canal 12\n",
            "\n",
            "Quarto\n",
            "LG\n",
            "Canal avançado!\n",
            "Alterado para o canal 7\n"
          ]
        }
      ]
    },
    {
      "cell_type": "code",
      "source": [],
      "metadata": {
        "id": "Qm9H68ieEG2_"
      },
      "execution_count": null,
      "outputs": []
    }
  ]
}
