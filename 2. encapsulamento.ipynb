{
  "nbformat": 4,
  "nbformat_minor": 0,
  "metadata": {
    "colab": {
      "provenance": [],
      "collapsed_sections": []
    },
    "kernelspec": {
      "name": "python3",
      "display_name": "Python 3"
    },
    "language_info": {
      "name": "python"
    }
  },
  "cells": [
    {
      "cell_type": "markdown",
      "source": [
        "# POO - Encapsulamento\n",
        " - Encapsular os dados de uma aplicação significa evitar que estes sofram acessos indevidos. Para isso, é criada uma estrutura que contém métodos que podem ser utilizados por qualquer outra classe, sem causar inconsistências no desenvolvimento de um código\n",
        "\n",
        "- Para encapsular basta utilizar __\n",
        "  - Exemplo: self.__cpf = cpf"
      ],
      "metadata": {
        "id": "G0x70SrARuO2"
      }
    },
    {
      "cell_type": "code",
      "execution_count": null,
      "metadata": {
        "colab": {
          "base_uri": "https://localhost:8080/"
        },
        "id": "N_WPtfViRqok",
        "outputId": "3ff4f2dd-481d-4958-9158-2cc3ac22057c"
      },
      "outputs": [
        {
          "output_type": "stream",
          "name": "stdout",
          "text": [
            "123.456.789-01\n",
            "bebendo...\n",
            "bebendo...\n"
          ]
        }
      ],
      "source": [
        "class Pessoa:\n",
        "\n",
        "  # método construtor\n",
        "  def __init__(self, nome, idade, cpf):\n",
        "\n",
        "    # atributos\n",
        "    self.nome = nome\n",
        "    self.idade = idade\n",
        "    self.__cpf = cpf\n",
        "\n",
        "  def correr(self):\n",
        "    print('Estou correndo!')\n",
        "\n",
        "  # acessivel\n",
        "  def beber(self, bebida):\n",
        "    if bebida == 'cerveja':\n",
        "      self.__apresentar_documento()\n",
        "    print('bebendo...')\n",
        "\n",
        "  def __apresentar_documento(self):\n",
        "    print(self.__cpf)\n",
        "\n",
        "murilo = Pessoa('Murilo', 22, '123.456.789-01')\n",
        "murilo.beber('cerveja')\n",
        "murilo.beber('coca')"
      ]
    },
    {
      "cell_type": "code",
      "source": [
        "class Calculadora:\n",
        "\n",
        "    # método privado\n",
        "    def __adicionar(self, num1, num2):\n",
        "      return num1 + num2\n",
        "\n",
        "    # método prviado\n",
        "    def __subtrair(self, num1, num2):\n",
        "      return num1 - num2 \n",
        "\n",
        "    def calcular(self, op, num1, num2):\n",
        "      if op == '+':\n",
        "        return self.__adicionar(num1, num2)\n",
        "      elif op == '-':\n",
        "        return self.__subtrair(num1, num2)\n",
        "      else:\n",
        "        raise ValueError('Operação Inválida! Utilize + ou - ')\n",
        "\n",
        "calculadora = Calculadora()\n",
        "resultado = calculadora.calcular('+', 3, 2)\n",
        "\n",
        "print(resultado)"
      ],
      "metadata": {
        "colab": {
          "base_uri": "https://localhost:8080/"
        },
        "id": "ZueJpj7vZ_cd",
        "outputId": "1c6e7c61-5e1d-4efe-ea68-e1f834149946"
      },
      "execution_count": null,
      "outputs": [
        {
          "output_type": "stream",
          "name": "stdout",
          "text": [
            "5\n"
          ]
        }
      ]
    }
  ]
}