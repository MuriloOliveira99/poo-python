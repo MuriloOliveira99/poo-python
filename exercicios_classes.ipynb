{
 "cells": [
  {
   "cell_type": "markdown",
   "metadata": {},
   "source": [
    "# POO: Exercícios - Classes\n",
    "https://wiki.python.org.br/ExerciciosClasses"
   ]
  },
  {
   "cell_type": "markdown",
   "metadata": {},
   "source": [
    "### 1. <b>Classe Bola:</b> Crie uma classe que modele uma bola:\n",
    "    - a. Atributos: cor, circunferência, material\n",
    "    - b. Métodos: troca_cor e mostra_cor"
   ]
  },
  {
   "cell_type": "code",
   "execution_count": 6,
   "metadata": {},
   "outputs": [
    {
     "name": "stdout",
     "output_type": "stream",
     "text": [
      "A nova cor da bola é Amarela\n",
      "62\n",
      "Couro Sintético\n",
      "A nova cor da bola é Verde\n"
     ]
    }
   ],
   "source": [
    "class Bola:\n",
    "\n",
    "    # método construtor\n",
    "    def __init__(self, cor: str, circunferencia: int, material: str) -> None:\n",
    "        \n",
    "        # atributos\n",
    "        self.cor = cor \n",
    "        self.circunferencia = circunferencia\n",
    "        self.material = material\n",
    "\n",
    "    # métodos 'trocar_cor'\n",
    "    def trocar_cor(self, nova_cor: str) -> None:\n",
    "        self.cor = nova_cor \n",
    "    \n",
    "    # método 'mostrar_cor'\n",
    "    def mostrar_cor(self) -> None:\n",
    "        print('A nova cor da bola é {}'.format(self.cor))\n",
    "\n",
    "al_rihla = Bola('Amarela', 62, 'Couro Sintético')\n",
    "\n",
    "al_rihla.mostrar_cor()\n",
    "print(al_rihla.circunferencia)\n",
    "print(al_rihla.material)\n",
    "\n",
    "al_rihla.trocar_cor('Verde')\n",
    "\n",
    "al_rihla.mostrar_cor()"
   ]
  },
  {
   "cell_type": "markdown",
   "metadata": {},
   "source": [
    "### 2. <b>Classe Quadrado:</b> Crie uma classe que modele um quadrado::\n",
    "    - a. Atributos: Tamanho do lado\n",
    "    - b. Métodos: Mudar valor do Lado, Retornar valor do Lado e calcular Área"
   ]
  },
  {
   "cell_type": "code",
   "execution_count": 7,
   "metadata": {},
   "outputs": [
    {
     "name": "stdout",
     "output_type": "stream",
     "text": [
      "Valor dos lados: 5\n",
      "Calculo da Área: 25\n",
      "\n",
      "Valor dos lados: 3\n",
      "Calculo da Área: 9\n"
     ]
    }
   ],
   "source": [
    "class Quadrado:\n",
    "\n",
    "    # método construtor\n",
    "    def __init__(self, tamanho_lado: int) -> None:\n",
    "        self.tamanho_lado = tamanho_lado\n",
    "\n",
    "    def mudar_valor_lado(self, mudar_valor: int) -> None:\n",
    "        self.tamanho_lado = mudar_valor\n",
    "\n",
    "    def retornar_valor_lado(self) -> int:\n",
    "        return self.tamanho_lado\n",
    "\n",
    "    def calcular_area(self) -> int:\n",
    "        return self.tamanho_lado ** 2\n",
    "\n",
    "q1 = Quadrado(5)\n",
    "print('Valor dos lados: {}'.format(q1.retornar_valor_lado()))\n",
    "print('Calculo da Área: {}'.format(q1.calcular_area()))\n",
    "\n",
    "print()\n",
    "\n",
    "q1.mudar_valor_lado(3)\n",
    "print('Valor dos lados: {}'.format(q1.retornar_valor_lado()))\n",
    "print('Calculo da Área: {}'.format(q1.calcular_area()))"
   ]
  },
  {
   "cell_type": "markdown",
   "metadata": {},
   "source": [
    "### 3. <b>Classe Retangulo:</b> Crie uma classe que modele um retangulo:\n",
    "    - a. Atributos: LadoA, LadoB (ou Comprimento e Largura, ou Base e Altura, a escolher)\n",
    "    - b. Métodos: Mudar valor dos lados, Retornar valor dos lados, calcular Área e calcular Perímetro\n",
    "    - c. Crie um programa que utilize esta classe. Ele deve pedir ao usuário que informe as medidades de um local. Depois, deve criar um objeto com as medidas e calcular a quantidade de pisos e de rodapés necessárias para o local."
   ]
  },
  {
   "cell_type": "code",
   "execution_count": 25,
   "metadata": {},
   "outputs": [
    {
     "name": "stdout",
     "output_type": "stream",
     "text": [
      "(7.0, 11.0)\n",
      "77.0\n",
      "36.0\n",
      "------------------------------\n",
      "(5.0, 5.0)\n",
      "25.0\n",
      "20.0\n",
      "------------------------------\n",
      "Qtd. de pisos necessários: {}cm \n",
      "       \n",
      "Qtd. de rodapés necessários: {}cm'.format(local.calcular_area(), local.calcular_perimetro())\n"
     ]
    }
   ],
   "source": [
    "class Retangulo:\n",
    "\n",
    "    def __init__(self, base: float, altura: float) -> None:\n",
    "        self.base = base\n",
    "        self.altura = altura \n",
    "\n",
    "    def mudar_valor_lado(self, nova_base: float, nova_altura: float) -> None:\n",
    "        self.base = nova_base\n",
    "        self.altura = nova_altura\n",
    "\n",
    "    def retornar_valor_lado(self) -> float:\n",
    "        return self.altura, self.base\n",
    "\n",
    "    def calcular_area(self) -> float:\n",
    "        return self.base * self.altura\n",
    "\n",
    "    def calcular_perimetro(self) -> float:\n",
    "        return 2 * (self.base + self.altura)\n",
    "\n",
    "\n",
    "r1 = Retangulo(11.0, 7.0)\n",
    "\n",
    "print(r1.retornar_valor_lado())\n",
    "print(r1.calcular_area())\n",
    "print(r1.calcular_perimetro())\n",
    "\n",
    "print('-' * 30)\n",
    "\n",
    "r1.mudar_valor_lado(5.0, 5.0)\n",
    "print(r1.retornar_valor_lado())\n",
    "print(r1.calcular_area())\n",
    "print(r1.calcular_perimetro())\n",
    "\n",
    "print('-' * 30)\n",
    "\n",
    "# entradas\n",
    "base_input = float(input('Digite a base do local: '))\n",
    "altura_input = float(input('Digite a altura do local: '))\n",
    "\n",
    "\n",
    "local = Retangulo(base_input, altura_input)\n",
    "print('Qtd. de pisos necessários: {}cm \\nQtd. de rodapés necessários: {}cm'.format(local.calcular_area(), local.calcular_perimetro()))\n"
   ]
  },
  {
   "cell_type": "markdown",
   "metadata": {},
   "source": [
    "### 4. <b>Classe Pessoa:</b> Crie uma classe que modele uma pessoa:\n",
    "    - a. Atributos: nome, idade, peso e altura\n",
    "    - b. Métodos: Envelhecer, engordar, emagrecer, crescer. \n",
    "    - Obs: Por padrão, a cada ano que nossa pessoa envelhece, sendo a idade dela menor que 21 anos, ela deve crescer 0,5 cm."
   ]
  },
  {
   "cell_type": "code",
   "execution_count": null,
   "metadata": {},
   "outputs": [],
   "source": [
    "class Pessoa:\n",
    "\n",
    "    def __init__(self, nome, idade, peso, altura) -> None:\n",
    "        self.nome = nome \n",
    "        self.idade = idade \n",
    "        self.peso = peso \n",
    "        self.altura = altura \n",
    "\n"
   ]
  }
 ],
 "metadata": {
  "kernelspec": {
   "display_name": "Python 3.9.12 ('base')",
   "language": "python",
   "name": "python3"
  },
  "language_info": {
   "codemirror_mode": {
    "name": "ipython",
    "version": 3
   },
   "file_extension": ".py",
   "mimetype": "text/x-python",
   "name": "python",
   "nbconvert_exporter": "python",
   "pygments_lexer": "ipython3",
   "version": "3.9.12"
  },
  "orig_nbformat": 4,
  "vscode": {
   "interpreter": {
    "hash": "ad2bdc8ecc057115af97d19610ffacc2b4e99fae6737bb82f5d7fb13d2f2c186"
   }
  }
 },
 "nbformat": 4,
 "nbformat_minor": 2
}
